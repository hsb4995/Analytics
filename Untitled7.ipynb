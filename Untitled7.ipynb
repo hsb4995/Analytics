{
 "cells": [
  {
   "cell_type": "code",
   "execution_count": 25,
   "metadata": {},
   "outputs": [
    {
     "name": "stdout",
     "output_type": "stream",
     "text": [
      "[nltk_data] Downloading package punkt to /home/harjot/nltk_data...\n",
      "[nltk_data]   Unzipping tokenizers/punkt.zip.\n"
     ]
    },
    {
     "data": {
      "text/plain": [
       "True"
      ]
     },
     "execution_count": 25,
     "metadata": {},
     "output_type": "execute_result"
    }
   ],
   "source": [
    "import pandas as pd;\n",
    "import numpy as np\n",
    "from matplotlib import pyplot as plt\n",
    "import seaborn as sns\n",
    "from textblob import TextBlob\n",
    "import nltk\n",
    "nltk.download('punkt')"
   ]
  },
  {
   "cell_type": "code",
   "execution_count": 10,
   "metadata": {},
   "outputs": [],
   "source": [
    "a = pd.read_csv('data.csv',index_col='id', parse_dates=['created_time'], dtype={'name':np.str})"
   ]
  },
  {
   "cell_type": "code",
   "execution_count": 78,
   "metadata": {},
   "outputs": [],
   "source": [
    "a.name\n",
    "hour = a.created_time\n",
    "hour=hour.dt.hour\n",
    "a['hour']=hour"
   ]
  },
  {
   "cell_type": "code",
   "execution_count": 8,
   "metadata": {},
   "outputs": [
    {
     "data": {
      "text/plain": [
       "id\n",
       "15                     Prasad Imax, Paradise, Hyderabad\n",
       "16                                            Charminar\n",
       "17                     Prasad Imax, Paradise, Hyderabad\n",
       "18                                            Charminar\n",
       "19                                           Club Rouge\n",
       "20                              Heart Cup Cafe Hyderbad\n",
       "21                                        Banjara Ohris\n",
       "22                                             Wonderla\n",
       "23                              Prost Brewpub Hyderabad\n",
       "24                                The Forum Sujana Mall\n",
       "25                          Salar Jung Museum & Library\n",
       "26                                     Worlds of Wonder\n",
       "27                         Select City Walk Mall ,Saket\n",
       "28                                 Lotus Temple Kalkaji\n",
       "29                                           India Gate\n",
       "30                                 Moonshine Cafe & Bar\n",
       "31                                     Hauz Khas Social\n",
       "32                                   My Connaught Place\n",
       "33                              Auto Expo Greater Nodia\n",
       "34                            Golconda Fort, Telengana.\n",
       "35                                     Murthal, Haryana\n",
       "36                                           Kheerganga\n",
       "37                                  Kullu Manali, India\n",
       "38                    Shimla Mall Road Himachal Pradesh\n",
       "39     Sri Harmandir Sahib, Sri Amritsar - www.sgpc.net\n",
       "40                     Prasad Imax, Paradise, Hyderabad\n",
       "41                                       Rajouri Garden\n",
       "42                                            Charminar\n",
       "43                                        F9 Go Karting\n",
       "44                                           Club Rouge\n",
       "                             ...                       \n",
       "87                                  Kullu Manali, India\n",
       "88                    Shimla Mall Road Himachal Pradesh\n",
       "89     Sri Harmandir Sahib, Sri Amritsar - www.sgpc.net\n",
       "90                                       Rajouri Garden\n",
       "91                                        F9 Go Karting\n",
       "92                     Prasad Imax, Paradise, Hyderabad\n",
       "93                                            Charminar\n",
       "94                                           Club Rouge\n",
       "95                              Heart Cup Cafe Hyderbad\n",
       "96                                        Banjara Ohris\n",
       "97                                             Wonderla\n",
       "98                              Prost Brewpub Hyderabad\n",
       "99                                The Forum Sujana Mall\n",
       "100                         Salar Jung Museum & Library\n",
       "101                                    Worlds of Wonder\n",
       "102                        Select City Walk Mall ,Saket\n",
       "103                                Lotus Temple Kalkaji\n",
       "104                                          India Gate\n",
       "105                                Moonshine Cafe & Bar\n",
       "106                                    Hauz Khas Social\n",
       "107                                  My Connaught Place\n",
       "108                             Auto Expo Greater Nodia\n",
       "109                           Golconda Fort, Telengana.\n",
       "110                                    Murthal, Haryana\n",
       "111                                          Kheerganga\n",
       "112                                 Kullu Manali, India\n",
       "113                   Shimla Mall Road Himachal Pradesh\n",
       "114    Sri Harmandir Sahib, Sri Amritsar - www.sgpc.net\n",
       "115                                      Rajouri Garden\n",
       "116                                       F9 Go Karting\n",
       "Name: name, Length: 102, dtype: object"
      ]
     },
     "execution_count": 8,
     "metadata": {},
     "output_type": "execute_result"
    }
   ],
   "source": [
    "a.name.astype(np.str)"
   ]
  },
  {
   "cell_type": "code",
   "execution_count": 12,
   "metadata": {},
   "outputs": [],
   "source": [
    "a.name=a.name.astype(str)"
   ]
  },
  {
   "cell_type": "code",
   "execution_count": 13,
   "metadata": {},
   "outputs": [
    {
     "data": {
      "text/plain": [
       "id\n",
       "15                     Prasad Imax, Paradise, Hyderabad\n",
       "16                                            Charminar\n",
       "17                     Prasad Imax, Paradise, Hyderabad\n",
       "18                                            Charminar\n",
       "19                                           Club Rouge\n",
       "20                              Heart Cup Cafe Hyderbad\n",
       "21                                        Banjara Ohris\n",
       "22                                             Wonderla\n",
       "23                              Prost Brewpub Hyderabad\n",
       "24                                The Forum Sujana Mall\n",
       "25                          Salar Jung Museum & Library\n",
       "26                                     Worlds of Wonder\n",
       "27                         Select City Walk Mall ,Saket\n",
       "28                                 Lotus Temple Kalkaji\n",
       "29                                           India Gate\n",
       "30                                 Moonshine Cafe & Bar\n",
       "31                                     Hauz Khas Social\n",
       "32                                   My Connaught Place\n",
       "33                              Auto Expo Greater Nodia\n",
       "34                            Golconda Fort, Telengana.\n",
       "35                                     Murthal, Haryana\n",
       "36                                           Kheerganga\n",
       "37                                  Kullu Manali, India\n",
       "38                    Shimla Mall Road Himachal Pradesh\n",
       "39     Sri Harmandir Sahib, Sri Amritsar - www.sgpc.net\n",
       "40                     Prasad Imax, Paradise, Hyderabad\n",
       "41                                       Rajouri Garden\n",
       "42                                            Charminar\n",
       "43                                        F9 Go Karting\n",
       "44                                           Club Rouge\n",
       "                             ...                       \n",
       "87                                  Kullu Manali, India\n",
       "88                    Shimla Mall Road Himachal Pradesh\n",
       "89     Sri Harmandir Sahib, Sri Amritsar - www.sgpc.net\n",
       "90                                       Rajouri Garden\n",
       "91                                        F9 Go Karting\n",
       "92                     Prasad Imax, Paradise, Hyderabad\n",
       "93                                            Charminar\n",
       "94                                           Club Rouge\n",
       "95                              Heart Cup Cafe Hyderbad\n",
       "96                                        Banjara Ohris\n",
       "97                                             Wonderla\n",
       "98                              Prost Brewpub Hyderabad\n",
       "99                                The Forum Sujana Mall\n",
       "100                         Salar Jung Museum & Library\n",
       "101                                    Worlds of Wonder\n",
       "102                        Select City Walk Mall ,Saket\n",
       "103                                Lotus Temple Kalkaji\n",
       "104                                          India Gate\n",
       "105                                Moonshine Cafe & Bar\n",
       "106                                    Hauz Khas Social\n",
       "107                                  My Connaught Place\n",
       "108                             Auto Expo Greater Nodia\n",
       "109                           Golconda Fort, Telengana.\n",
       "110                                    Murthal, Haryana\n",
       "111                                          Kheerganga\n",
       "112                                 Kullu Manali, India\n",
       "113                   Shimla Mall Road Himachal Pradesh\n",
       "114    Sri Harmandir Sahib, Sri Amritsar - www.sgpc.net\n",
       "115                                      Rajouri Garden\n",
       "116                                       F9 Go Karting\n",
       "Name: name, Length: 102, dtype: object"
      ]
     },
     "execution_count": 13,
     "metadata": {},
     "output_type": "execute_result"
    }
   ],
   "source": [
    "a.name\n"
   ]
  },
  {
   "cell_type": "code",
   "execution_count": 35,
   "metadata": {},
   "outputs": [
    {
     "data": {
      "text/plain": [
       "array(['Prasad Imax, Paradise, Hyderabad', 'Charminar', 'Club Rouge',\n",
       "       'Heart Cup Cafe Hyderbad', 'Banjara Ohris', 'Wonderla',\n",
       "       'Prost Brewpub Hyderabad', 'The Forum Sujana Mall',\n",
       "       'Salar Jung Museum & Library', 'Worlds of Wonder',\n",
       "       'Select City Walk Mall ,Saket', 'Lotus Temple Kalkaji',\n",
       "       'India Gate', 'Moonshine Cafe & Bar', 'Hauz Khas Social',\n",
       "       'My Connaught Place', 'Auto Expo Greater Nodia',\n",
       "       'Golconda Fort, Telengana.', 'Murthal, Haryana', 'Kheerganga',\n",
       "       'Kullu Manali, India', 'Shimla Mall Road Himachal Pradesh',\n",
       "       'Sri Harmandir Sahib, Sri Amritsar - www.sgpc.net',\n",
       "       'Rajouri Garden', 'F9 Go Karting'], dtype=object)"
      ]
     },
     "execution_count": 35,
     "metadata": {},
     "output_type": "execute_result"
    }
   ],
   "source": [
    "a\n",
    "a.name.values\n"
   ]
  },
  {
   "cell_type": "code",
   "execution_count": 72,
   "metadata": {
    "scrolled": false
   },
   "outputs": [
    {
     "name": "stdout",
     "output_type": "stream",
     "text": [
      "['Prasad', 'Imax', 'Paradise', 'Hyderabad']\n",
      "Movies/Cinema\n",
      "['Charminar']\n",
      "['Club', 'Rouge']\n",
      "Club/Bistro/Cafe\n",
      "['Heart', 'Cup', 'Cafe', 'Hyderbad']\n",
      "Club/Bistro/Cafe\n",
      "['Banjara', 'Ohris']\n",
      "['Wonderla']\n",
      "['Prost', 'Brewpub', 'Hyderabad']\n",
      "Club/Bistro/Cafe\n",
      "['The', 'Forum', 'Sujana', 'Mall']\n",
      "Mall/Shopping Complex\n",
      "['Salar', 'Jung', 'Museum', 'Library']\n",
      "Historic\n",
      "Historic\n",
      "['Worlds', 'of', 'Wonder']\n",
      "Amusement Park/Activity\n",
      "['Select', 'City', 'Walk', 'Mall', 'Saket']\n",
      "Mall/Shopping Complex\n",
      "['Lotus', 'Temple', 'Kalkaji']\n",
      "Worship/Temple\n",
      "['India', 'Gate']\n",
      "Mall/Shopping Complex\n",
      "['Moonshine', 'Cafe', 'Bar']\n",
      "Club/Bistro/Cafe\n",
      "Club/Bistro/Cafe\n",
      "['Hauz', 'Khas', 'Social']\n",
      "Causal/Hangout\n",
      "['My', 'Connaught', 'Place']\n",
      "['Auto', 'Expo', 'Greater', 'Nodia']\n",
      "Exhibition\n",
      "['Golconda', 'Fort', 'Telengana']\n",
      "Historic\n",
      "['Murthal', 'Haryana']\n",
      "['Kheerganga']\n",
      "['Kullu', 'Manali', 'India']\n",
      "['Shimla', 'Mall', 'Road', 'Himachal', 'Pradesh']\n",
      "Mall/Shopping Complex\n",
      "['Sri', 'Harmandir', 'Sahib', 'Sri', 'Amritsar', 'www.sgpc.net']\n",
      "Worship/Temple\n",
      "['Rajouri', 'Garden']\n",
      "Nature\n",
      "['F9', 'Go', 'Karting']\n",
      "Amusement Park/Activity\n"
     ]
    }
   ],
   "source": [
    "list= {\"bar\":\"Club/Bistro/Cafe\",\"social\":\"Causal/Hangout\",\"disc\":\"Club/Bistro/Cafe\",\"club\":\"Club/Bistro/Cafe\",\"brewpub\":\"Club/Bistro/Cafe\",\"brewery\":\"Club/Bistro/Cafe\",\"cafe\":\"Club/Bistro/Cafe\",\"restuarant\":\"Club/Bistro/Cafe\",\"fort\":\"Historic\",\"mahal\":\"Historic\",\"dome\":\"Historic\",\"village\":\"Historic\",\"museum\":\"Historic\",\"library\":\"Historic\",\"mall\":\"Mall/Shopping Complex\",\"market\":\"Mall/Shopping Complex\",\"gate\":\"Mall/Shopping Complex\",\"bowling\":\"Amusement Park/Activity\",\"kart\":\"Amusement Park/Activity\",\"karting\":\"Amusement Park/Activity\",\"wonders\":\"Amusement Park/Activity\",\"wonder\":\"Amusement Park/Activity\",\"adventure\":\"Amusement Park/Activity\",\"park\":\"Amusement Park/Activity\",\"temple\":\"Worship/Temple\",\"gurudwara\":\"Worship/Temple\",\"sahib\":\"Worship/Temple\",\"mosque\":\"Worship/Temple\",\n",
    "      \"imax\":\"Movies/Cinema\",\"pvr\":\"Movies/Cinema\",\"cinema\":\"Movies/Cinema\",\"theater\":\"Movies/Cinema\",\"broadway\":\"Movies/Cinema\",\n",
    "      \"garden\":\"Nature\",\"hills\":\"Nature\",\n",
    "      \"expo\":\"Exhibition\",\"con\":\"Exhibition\",\"bazar\":\"Exhibition\",\"craft\":\"Exhibition\"}\n",
    "ade=[]\n",
    "for i in a.name.values:\n",
    "    blob = TextBlob(i)\n",
    "    blob.words\n",
    "    print(blob.words)\n",
    "    k=\"\";\n",
    "    for j in blob.words:\n",
    "        if(list.get(j.lower()) != None):\n",
    "            print(list.get(j.lower()))\n",
    "            k=list.get(j.lower());\n",
    "        \n",
    "    if(k == \"\"):\n",
    "        k=\"Others\"\n",
    "    ade.append(k)"
   ]
  },
  {
   "cell_type": "code",
   "execution_count": 73,
   "metadata": {
    "scrolled": true
   },
   "outputs": [
    {
     "name": "stdout",
     "output_type": "stream",
     "text": [
      "Movies/Cinema\n",
      "Others\n",
      "Club/Bistro/Cafe\n",
      "Club/Bistro/Cafe\n",
      "Others\n",
      "Others\n",
      "Club/Bistro/Cafe\n",
      "Mall/Shopping Complex\n",
      "Historic\n",
      "Amusement Park/Activity\n",
      "Mall/Shopping Complex\n",
      "Worship/Temple\n",
      "Mall/Shopping Complex\n",
      "Club/Bistro/Cafe\n",
      "Causal/Hangout\n",
      "Others\n",
      "Exhibition\n",
      "Historic\n",
      "Others\n",
      "Others\n",
      "Others\n",
      "Mall/Shopping Complex\n",
      "Worship/Temple\n",
      "Nature\n",
      "Amusement Park/Activity\n"
     ]
    }
   ],
   "source": [
    "for j in ade:\n",
    "    print(j)"
   ]
  },
  {
   "cell_type": "code",
   "execution_count": 74,
   "metadata": {},
   "outputs": [],
   "source": [
    "a['type']=ade\n"
   ]
  },
  {
   "cell_type": "code",
   "execution_count": 79,
   "metadata": {},
   "outputs": [
    {
     "data": {
      "text/html": [
       "<div>\n",
       "<style scoped>\n",
       "    .dataframe tbody tr th:only-of-type {\n",
       "        vertical-align: middle;\n",
       "    }\n",
       "\n",
       "    .dataframe tbody tr th {\n",
       "        vertical-align: top;\n",
       "    }\n",
       "\n",
       "    .dataframe thead th {\n",
       "        text-align: right;\n",
       "    }\n",
       "</style>\n",
       "<table border=\"1\" class=\"dataframe\">\n",
       "  <thead>\n",
       "    <tr style=\"text-align: right;\">\n",
       "      <th></th>\n",
       "      <th>city</th>\n",
       "      <th>created_time</th>\n",
       "      <th>name</th>\n",
       "      <th>user_id</th>\n",
       "      <th>type</th>\n",
       "      <th>hour</th>\n",
       "    </tr>\n",
       "    <tr>\n",
       "      <th>id</th>\n",
       "      <th></th>\n",
       "      <th></th>\n",
       "      <th></th>\n",
       "      <th></th>\n",
       "      <th></th>\n",
       "      <th></th>\n",
       "    </tr>\n",
       "  </thead>\n",
       "  <tbody>\n",
       "    <tr>\n",
       "      <th>15</th>\n",
       "      <td>Hyderabad</td>\n",
       "      <td>2018-09-28 18:46:32</td>\n",
       "      <td>Prasad Imax, Paradise, Hyderabad</td>\n",
       "      <td>114781919492498</td>\n",
       "      <td>Movies/Cinema</td>\n",
       "      <td>18</td>\n",
       "    </tr>\n",
       "    <tr>\n",
       "      <th>16</th>\n",
       "      <td>Hyderabad</td>\n",
       "      <td>2018-09-28 15:49:33</td>\n",
       "      <td>Charminar</td>\n",
       "      <td>114781919492498</td>\n",
       "      <td>Others</td>\n",
       "      <td>15</td>\n",
       "    </tr>\n",
       "    <tr>\n",
       "      <th>19</th>\n",
       "      <td>Hyderabad</td>\n",
       "      <td>2018-09-28 15:43:12</td>\n",
       "      <td>Club Rouge</td>\n",
       "      <td>114781919492498</td>\n",
       "      <td>Club/Bistro/Cafe</td>\n",
       "      <td>15</td>\n",
       "    </tr>\n",
       "    <tr>\n",
       "      <th>20</th>\n",
       "      <td>Hyderabad</td>\n",
       "      <td>2018-09-22 15:30:00</td>\n",
       "      <td>Heart Cup Cafe Hyderbad</td>\n",
       "      <td>114781919492498</td>\n",
       "      <td>Club/Bistro/Cafe</td>\n",
       "      <td>15</td>\n",
       "    </tr>\n",
       "    <tr>\n",
       "      <th>21</th>\n",
       "      <td>Hyderabad</td>\n",
       "      <td>2018-09-18 15:30:00</td>\n",
       "      <td>Banjara Ohris</td>\n",
       "      <td>114781919492498</td>\n",
       "      <td>Others</td>\n",
       "      <td>15</td>\n",
       "    </tr>\n",
       "    <tr>\n",
       "      <th>22</th>\n",
       "      <td>Hyderabad</td>\n",
       "      <td>2018-08-31 08:30:00</td>\n",
       "      <td>Wonderla</td>\n",
       "      <td>114781919492498</td>\n",
       "      <td>Others</td>\n",
       "      <td>8</td>\n",
       "    </tr>\n",
       "    <tr>\n",
       "      <th>23</th>\n",
       "      <td>Hyderabad</td>\n",
       "      <td>2018-08-28 12:30:00</td>\n",
       "      <td>Prost Brewpub Hyderabad</td>\n",
       "      <td>114781919492498</td>\n",
       "      <td>Club/Bistro/Cafe</td>\n",
       "      <td>12</td>\n",
       "    </tr>\n",
       "    <tr>\n",
       "      <th>24</th>\n",
       "      <td>Hyderabad</td>\n",
       "      <td>2018-06-08 08:30:00</td>\n",
       "      <td>The Forum Sujana Mall</td>\n",
       "      <td>114781919492498</td>\n",
       "      <td>Mall/Shopping Complex</td>\n",
       "      <td>8</td>\n",
       "    </tr>\n",
       "    <tr>\n",
       "      <th>25</th>\n",
       "      <td>Hyderabad</td>\n",
       "      <td>2018-04-04 06:30:00</td>\n",
       "      <td>Salar Jung Museum &amp; Library</td>\n",
       "      <td>114781919492498</td>\n",
       "      <td>Historic</td>\n",
       "      <td>6</td>\n",
       "    </tr>\n",
       "    <tr>\n",
       "      <th>26</th>\n",
       "      <td>Noida</td>\n",
       "      <td>2018-03-25 07:30:00</td>\n",
       "      <td>Worlds of Wonder</td>\n",
       "      <td>114781919492498</td>\n",
       "      <td>Amusement Park/Activity</td>\n",
       "      <td>7</td>\n",
       "    </tr>\n",
       "    <tr>\n",
       "      <th>27</th>\n",
       "      <td>New Delhi</td>\n",
       "      <td>2018-03-25 06:30:00</td>\n",
       "      <td>Select City Walk Mall ,Saket</td>\n",
       "      <td>114781919492498</td>\n",
       "      <td>Mall/Shopping Complex</td>\n",
       "      <td>6</td>\n",
       "    </tr>\n",
       "    <tr>\n",
       "      <th>28</th>\n",
       "      <td>Delhi</td>\n",
       "      <td>2018-03-24 04:30:00</td>\n",
       "      <td>Lotus Temple Kalkaji</td>\n",
       "      <td>114781919492498</td>\n",
       "      <td>Worship/Temple</td>\n",
       "      <td>4</td>\n",
       "    </tr>\n",
       "    <tr>\n",
       "      <th>29</th>\n",
       "      <td>New Delhi</td>\n",
       "      <td>2018-03-24 04:30:00</td>\n",
       "      <td>India Gate</td>\n",
       "      <td>114781919492498</td>\n",
       "      <td>Mall/Shopping Complex</td>\n",
       "      <td>4</td>\n",
       "    </tr>\n",
       "    <tr>\n",
       "      <th>30</th>\n",
       "      <td>New Delhi</td>\n",
       "      <td>2018-03-23 14:30:00</td>\n",
       "      <td>Moonshine Cafe &amp; Bar</td>\n",
       "      <td>114781919492498</td>\n",
       "      <td>Club/Bistro/Cafe</td>\n",
       "      <td>14</td>\n",
       "    </tr>\n",
       "    <tr>\n",
       "      <th>31</th>\n",
       "      <td>New Delhi</td>\n",
       "      <td>2018-03-21 13:30:00</td>\n",
       "      <td>Hauz Khas Social</td>\n",
       "      <td>114781919492498</td>\n",
       "      <td>Causal/Hangout</td>\n",
       "      <td>13</td>\n",
       "    </tr>\n",
       "    <tr>\n",
       "      <th>32</th>\n",
       "      <td>New Delhi</td>\n",
       "      <td>2018-03-18 11:30:00</td>\n",
       "      <td>My Connaught Place</td>\n",
       "      <td>114781919492498</td>\n",
       "      <td>Others</td>\n",
       "      <td>11</td>\n",
       "    </tr>\n",
       "    <tr>\n",
       "      <th>33</th>\n",
       "      <td>Noida</td>\n",
       "      <td>2018-01-31 06:30:00</td>\n",
       "      <td>Auto Expo Greater Nodia</td>\n",
       "      <td>114781919492498</td>\n",
       "      <td>Exhibition</td>\n",
       "      <td>6</td>\n",
       "    </tr>\n",
       "    <tr>\n",
       "      <th>34</th>\n",
       "      <td>Hyderabad</td>\n",
       "      <td>2018-01-09 05:30:00</td>\n",
       "      <td>Golconda Fort, Telengana.</td>\n",
       "      <td>114781919492498</td>\n",
       "      <td>Historic</td>\n",
       "      <td>5</td>\n",
       "    </tr>\n",
       "    <tr>\n",
       "      <th>35</th>\n",
       "      <td>Moradabad</td>\n",
       "      <td>2018-01-05 17:30:00</td>\n",
       "      <td>Murthal, Haryana</td>\n",
       "      <td>114781919492498</td>\n",
       "      <td>Others</td>\n",
       "      <td>17</td>\n",
       "    </tr>\n",
       "    <tr>\n",
       "      <th>36</th>\n",
       "      <td>Kullu</td>\n",
       "      <td>2017-12-08 03:30:00</td>\n",
       "      <td>Kheerganga</td>\n",
       "      <td>114781919492498</td>\n",
       "      <td>Others</td>\n",
       "      <td>3</td>\n",
       "    </tr>\n",
       "    <tr>\n",
       "      <th>37</th>\n",
       "      <td>Manali</td>\n",
       "      <td>2017-12-04 22:30:00</td>\n",
       "      <td>Kullu Manali, India</td>\n",
       "      <td>114781919492498</td>\n",
       "      <td>Others</td>\n",
       "      <td>22</td>\n",
       "    </tr>\n",
       "    <tr>\n",
       "      <th>38</th>\n",
       "      <td>Shimla</td>\n",
       "      <td>2017-11-20 08:30:00</td>\n",
       "      <td>Shimla Mall Road Himachal Pradesh</td>\n",
       "      <td>114781919492498</td>\n",
       "      <td>Mall/Shopping Complex</td>\n",
       "      <td>8</td>\n",
       "    </tr>\n",
       "    <tr>\n",
       "      <th>39</th>\n",
       "      <td>Amritsar</td>\n",
       "      <td>2017-11-06 06:30:00</td>\n",
       "      <td>Sri Harmandir Sahib, Sri Amritsar - www.sgpc.net</td>\n",
       "      <td>114781919492498</td>\n",
       "      <td>Worship/Temple</td>\n",
       "      <td>6</td>\n",
       "    </tr>\n",
       "    <tr>\n",
       "      <th>41</th>\n",
       "      <td>New Delhi</td>\n",
       "      <td>2017-10-14 07:30:00</td>\n",
       "      <td>Rajouri Garden</td>\n",
       "      <td>114781919492498</td>\n",
       "      <td>Nature</td>\n",
       "      <td>7</td>\n",
       "    </tr>\n",
       "    <tr>\n",
       "      <th>43</th>\n",
       "      <td>Gurgaon</td>\n",
       "      <td>2017-10-08 09:30:00</td>\n",
       "      <td>F9 Go Karting</td>\n",
       "      <td>114781919492498</td>\n",
       "      <td>Amusement Park/Activity</td>\n",
       "      <td>9</td>\n",
       "    </tr>\n",
       "  </tbody>\n",
       "</table>\n",
       "</div>"
      ],
      "text/plain": [
       "         city        created_time  \\\n",
       "id                                  \n",
       "15  Hyderabad 2018-09-28 18:46:32   \n",
       "16  Hyderabad 2018-09-28 15:49:33   \n",
       "19  Hyderabad 2018-09-28 15:43:12   \n",
       "20  Hyderabad 2018-09-22 15:30:00   \n",
       "21  Hyderabad 2018-09-18 15:30:00   \n",
       "22  Hyderabad 2018-08-31 08:30:00   \n",
       "23  Hyderabad 2018-08-28 12:30:00   \n",
       "24  Hyderabad 2018-06-08 08:30:00   \n",
       "25  Hyderabad 2018-04-04 06:30:00   \n",
       "26      Noida 2018-03-25 07:30:00   \n",
       "27  New Delhi 2018-03-25 06:30:00   \n",
       "28      Delhi 2018-03-24 04:30:00   \n",
       "29  New Delhi 2018-03-24 04:30:00   \n",
       "30  New Delhi 2018-03-23 14:30:00   \n",
       "31  New Delhi 2018-03-21 13:30:00   \n",
       "32  New Delhi 2018-03-18 11:30:00   \n",
       "33      Noida 2018-01-31 06:30:00   \n",
       "34  Hyderabad 2018-01-09 05:30:00   \n",
       "35  Moradabad 2018-01-05 17:30:00   \n",
       "36      Kullu 2017-12-08 03:30:00   \n",
       "37     Manali 2017-12-04 22:30:00   \n",
       "38     Shimla 2017-11-20 08:30:00   \n",
       "39   Amritsar 2017-11-06 06:30:00   \n",
       "41  New Delhi 2017-10-14 07:30:00   \n",
       "43    Gurgaon 2017-10-08 09:30:00   \n",
       "\n",
       "                                                name          user_id  \\\n",
       "id                                                                      \n",
       "15                  Prasad Imax, Paradise, Hyderabad  114781919492498   \n",
       "16                                         Charminar  114781919492498   \n",
       "19                                        Club Rouge  114781919492498   \n",
       "20                           Heart Cup Cafe Hyderbad  114781919492498   \n",
       "21                                     Banjara Ohris  114781919492498   \n",
       "22                                          Wonderla  114781919492498   \n",
       "23                           Prost Brewpub Hyderabad  114781919492498   \n",
       "24                             The Forum Sujana Mall  114781919492498   \n",
       "25                       Salar Jung Museum & Library  114781919492498   \n",
       "26                                  Worlds of Wonder  114781919492498   \n",
       "27                      Select City Walk Mall ,Saket  114781919492498   \n",
       "28                              Lotus Temple Kalkaji  114781919492498   \n",
       "29                                        India Gate  114781919492498   \n",
       "30                              Moonshine Cafe & Bar  114781919492498   \n",
       "31                                  Hauz Khas Social  114781919492498   \n",
       "32                                My Connaught Place  114781919492498   \n",
       "33                           Auto Expo Greater Nodia  114781919492498   \n",
       "34                         Golconda Fort, Telengana.  114781919492498   \n",
       "35                                  Murthal, Haryana  114781919492498   \n",
       "36                                        Kheerganga  114781919492498   \n",
       "37                               Kullu Manali, India  114781919492498   \n",
       "38                 Shimla Mall Road Himachal Pradesh  114781919492498   \n",
       "39  Sri Harmandir Sahib, Sri Amritsar - www.sgpc.net  114781919492498   \n",
       "41                                    Rajouri Garden  114781919492498   \n",
       "43                                     F9 Go Karting  114781919492498   \n",
       "\n",
       "                       type  hour  \n",
       "id                                 \n",
       "15            Movies/Cinema    18  \n",
       "16                   Others    15  \n",
       "19         Club/Bistro/Cafe    15  \n",
       "20         Club/Bistro/Cafe    15  \n",
       "21                   Others    15  \n",
       "22                   Others     8  \n",
       "23         Club/Bistro/Cafe    12  \n",
       "24    Mall/Shopping Complex     8  \n",
       "25                 Historic     6  \n",
       "26  Amusement Park/Activity     7  \n",
       "27    Mall/Shopping Complex     6  \n",
       "28           Worship/Temple     4  \n",
       "29    Mall/Shopping Complex     4  \n",
       "30         Club/Bistro/Cafe    14  \n",
       "31           Causal/Hangout    13  \n",
       "32                   Others    11  \n",
       "33               Exhibition     6  \n",
       "34                 Historic     5  \n",
       "35                   Others    17  \n",
       "36                   Others     3  \n",
       "37                   Others    22  \n",
       "38    Mall/Shopping Complex     8  \n",
       "39           Worship/Temple     6  \n",
       "41                   Nature     7  \n",
       "43  Amusement Park/Activity     9  "
      ]
     },
     "execution_count": 79,
     "metadata": {},
     "output_type": "execute_result"
    }
   ],
   "source": [
    "a"
   ]
  },
  {
   "cell_type": "code",
   "execution_count": 126,
   "metadata": {},
   "outputs": [
    {
     "data": {
      "text/plain": [
       "<Figure size 1440x1080 with 0 Axes>"
      ]
     },
     "metadata": {},
     "output_type": "display_data"
    },
    {
     "data": {
      "image/png": "[encoded data removed]",
      "text/plain": [
       "<Figure size 668.125x576 with 1 Axes>"
      ]
     },
     "metadata": {},
     "output_type": "display_data"
    },
    {
     "data": {
      "text/plain": [
       "<Figure size 432x288 with 0 Axes>"
      ]
     },
     "metadata": {},
     "output_type": "display_data"
    }
   ],
   "source": [
    "ax=plt.figure(figsize=(20,15))\n",
    "\n",
    "pl=sns.lmplot(size=8, y='hour',x='type', data=a,\n",
    "           fit_reg=False, # No regression line\n",
    "           hue='city')\n",
    "pl.set_xticklabels(rotation=30)\n",
    "fig = plt.figure()\n",
    "fig.savefig('city.jpg')"
   ]
  },
  {
   "cell_type": "code",
   "execution_count": 127,
   "metadata": {},
   "outputs": [
    {
     "data": {
      "image/png": "[encoded data removed]",
      "text/plain": [
       "<Figure size 432x288 with 1 Axes>"
      ]
     },
     "metadata": {},
     "output_type": "display_data"
    }
   ],
   "source": [
    "a.groupby('type').name.count().plot.bar()\n",
    "fig.savefig('count.jpg')"
   ]
  },
  {
   "cell_type": "code",
   "execution_count": 143,
   "metadata": {},
   "outputs": [
    {
     "data": {
      "image/png": "[encoded data removed]",
      "text/plain": [
       "<Figure size 432x288 with 1 Axes>"
      ]
     },
     "metadata": {},
     "output_type": "display_data"
    }
   ],
   "source": [
    "vpl=sns.violinplot(x='type', y='hour', data=a,inner=None,size=7)\n",
    "labels=a.type\n",
    "vpl.set_xticklabels(labels,rotation=30)\n",
    "fig.savefig('density.jpg')"
   ]
  },
  {
   "cell_type": "code",
   "execution_count": 194,
   "metadata": {},
   "outputs": [
    {
     "name": "stdout",
     "output_type": "stream",
     "text": [
      "['Others' 'Club/Bistro/Cafe' 'Mall/Shopping Complex' 'Movies/Cinema'\n",
      " 'Amusement Park/Activity' 'Causal/Hangout']\n"
     ]
    }
   ],
   "source": [
    "grp=a.groupby(['type'], as_index=False).sum()\n",
    "grp=grp.sort_values(['hour'], ascending=[False]).groupby('type').head(5)\n",
    "print(grp.head(6).type.values)\n",
    "rr=grp.head(6).type.values\n",
    "f= open(\"/home/ubuntu/abc.txt\",\"w+\")\n",
    "for i in rr:\n",
    "    f.write(i+'\\n')"
   ]
  },
  {
   "cell_type": "code",
   "execution_count": 188,
   "metadata": {},
   "outputs": [
    {
     "name": "stdout",
     "output_type": "stream",
     "text": [
      "a\n"
     ]
    }
   ],
   "source": [
    "print(\"a\")"
   ]
  },
  {
   "cell_type": "code",
   "execution_count": null,
   "metadata": {},
   "outputs": [],
   "source": []
  }
 ],
 "metadata": {
  "kernelspec": {
   "display_name": "Python 3",
   "language": "python",
   "name": "python3"
  },
  "language_info": {
   "codemirror_mode": {
    "name": "ipython",
    "version": 3
   },
   "file_extension": ".py",
   "mimetype": "text/x-python",
   "name": "python",
   "nbconvert_exporter": "python",
   "pygments_lexer": "ipython3",
   "version": "3.6.5"
  }
 },
 "nbformat": 4,
 "nbformat_minor": 2
}
